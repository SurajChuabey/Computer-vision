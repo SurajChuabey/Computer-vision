{
 "cells": [
  {
   "cell_type": "code",
   "execution_count": 3,
   "metadata": {},
   "outputs": [],
   "source": [
    "import numpy as np\n",
    "import pandas as pd"
   ]
  },
  {
   "cell_type": "markdown",
   "metadata": {},
   "source": [
    "# Assinging multiple value to the variable or assign same value to the every variable:"
   ]
  },
  {
   "cell_type": "code",
   "execution_count": null,
   "metadata": {},
   "outputs": [],
   "source": [
    "x,y,z=10,'suraj',20.393\n",
    "print(x,y,z)\n",
    "a=b=c='orange'\n",
    "print(a,b,c)"
   ]
  },
  {
   "cell_type": "markdown",
   "metadata": {},
   "source": [
    "# UNPACK A COLLECTION:\n",
    "##### If you have have a collection of value in a list or tuple python will aloow you to unpack values and assgn to the differenmt variable"
   ]
  },
  {
   "cell_type": "code",
   "execution_count": null,
   "metadata": {},
   "outputs": [],
   "source": [
    "fruits=['mango','banana','grapes']\n",
    "x,y,z=fruits\n",
    "print(x,y,z)"
   ]
  },
  {
   "cell_type": "markdown",
   "metadata": {},
   "source": [
    "#  OUTPUT VARIABLE:\n",
    "         The python print() function is often used to output variable\n",
    "  "
   ]
  },
  {
   "cell_type": "code",
   "execution_count": null,
   "metadata": {},
   "outputs": [],
   "source": [
    "x='python'\n",
    "y='is'\n",
    "z='awesome'\n",
    "print(x,y,z)\n",
    "print(x+y+z)"
   ]
  },
  {
   "cell_type": "markdown",
   "metadata": {},
   "source": [
    "         in print function for number the \"+\" character works as operator"
   ]
  },
  {
   "cell_type": "code",
   "execution_count": null,
   "metadata": {},
   "outputs": [],
   "source": [
    "print(2+34+5)"
   ]
  },
  {
   "cell_type": "markdown",
   "metadata": {},
   "source": [
    "#  There are two types of variable in python first one is local and global variable\n",
    "##### variable that are created outside of a function are called global variable\n",
    "##### varibale that are created inside a function for specific function is called locall variable"
   ]
  },
  {
   "cell_type": "code",
   "execution_count": null,
   "metadata": {},
   "outputs": [],
   "source": [
    "# local varible example\n",
    "def singh_greet(name):\n",
    "    surname='singh'\n",
    "    print(f'hello {name} {surname}')\n",
    "singh_greet('aditya')\n"
   ]
  },
  {
   "cell_type": "code",
   "execution_count": null,
   "metadata": {},
   "outputs": [],
   "source": [
    "# global variable\n",
    "surname='singh'\n",
    "def singh_greet(name):\n",
    "    print(f'hello {name} {surname}')\n",
    "singh_greet('aditya')"
   ]
  },
  {
   "cell_type": "markdown",
   "metadata": {},
   "source": [
    "#### if you want to create global varibale inside a function ,you can use 'global' keyword. and it can be used to change globall variable inside a function"
   ]
  },
  {
   "cell_type": "code",
   "execution_count": null,
   "metadata": {},
   "outputs": [],
   "source": [
    "def singh_greet(name):\n",
    "    global surname\n",
    "    surname='singh'\n",
    "    print(f'hello {name} {surname}')\n",
    "\n",
    "print(surname)"
   ]
  },
  {
   "cell_type": "code",
   "execution_count": null,
   "metadata": {},
   "outputs": [],
   "source": [
    "surname='singh'\n",
    "def singh_greet(name):\n",
    "    global surname\n",
    "    surname='sharma'\n",
    "    print(f'hello {name} {surname}')\n",
    "singh_greet('aditya')"
   ]
  },
  {
   "cell_type": "code",
   "execution_count": null,
   "metadata": {},
   "outputs": [],
   "source": [
    "# STRING \n"
   ]
  },
  {
   "cell_type": "markdown",
   "metadata": {},
   "source": [
    "#### string in python are surrounded by single or double qoutes\n",
    "#### string are like array like many other programnming language string in python are array of bytes representing unicode character.\n"
   ]
  },
  {
   "cell_type": "markdown",
   "metadata": {},
   "source": [
    "         SQUARE BRACKET CAN BE USED TO ACCESS ELEMENT OF THE STRING"
   ]
  },
  {
   "cell_type": "code",
   "execution_count": null,
   "metadata": {},
   "outputs": [],
   "source": [
    "str1=\"python_basic\"\n",
    "print(str1[2],str1[0])"
   ]
  },
  {
   "cell_type": "markdown",
   "metadata": {},
   "source": [
    "# looping thriugh a string :- "
   ]
  },
  {
   "cell_type": "markdown",
   "metadata": {},
   "source": [
    "##### since string are array, we ,can loop through the character in a string with for loop"
   ]
  },
  {
   "cell_type": "code",
   "execution_count": null,
   "metadata": {},
   "outputs": [],
   "source": [
    "name=\"suraj chaubey\"\n",
    "for i in name:\n",
    "    print(i)"
   ]
  },
  {
   "cell_type": "markdown",
   "metadata": {},
   "source": [
    "# STRING LENGTH\n"
   ]
  },
  {
   "cell_type": "markdown",
   "metadata": {},
   "source": [
    "         to get length of a string a use \"len()\" function."
   ]
  },
  {
   "cell_type": "code",
   "execution_count": null,
   "metadata": {},
   "outputs": [],
   "source": [
    "name=\"suraj\"\n",
    "print(len(name))"
   ]
  },
  {
   "cell_type": "markdown",
   "metadata": {},
   "source": [
    "# CHECKING STRING OR CHARACTER IN STRING"
   ]
  },
  {
   "cell_type": "markdown",
   "metadata": {},
   "source": [
    "- TO CHECK IF A CERTAIN PHRASE OR CHARACTER IS PRESENT IN A STRING , WE CAN USE KEYWORD \"IN\" ."
   ]
  },
  {
   "cell_type": "code",
   "execution_count": null,
   "metadata": {},
   "outputs": [],
   "source": [
    "txt=\"the best thing if the life\"\n",
    "print(\"best\" in txt)"
   ]
  },
  {
   "cell_type": "markdown",
   "metadata": {},
   "source": [
    "#### same for to check if certain character of word not present in string \n",
    "#### to check if a certain character is not  present in a string , we can use the keyword \"not in\"\n",
    " "
   ]
  },
  {
   "cell_type": "code",
   "execution_count": null,
   "metadata": {},
   "outputs": [],
   "source": [
    "txt=\"the best thing if the life\"\n",
    "# print(\"expensive\" not in txt)\n",
    "if \"expensive\" not in txt:\n",
    "    print(\"expensive is not present in text\")"
   ]
  },
  {
   "cell_type": "markdown",
   "metadata": {},
   "source": [
    " # Slicing of string "
   ]
  },
  {
   "cell_type": "markdown",
   "metadata": {},
   "source": [
    "#### You can return a range of chracter by using  slice syntax\n",
    "#### specify the start index and the end index, seperated by a colon"
   ]
  },
  {
   "cell_type": "code",
   "execution_count": null,
   "metadata": {},
   "outputs": [],
   "source": [
    "str1=\"python_is _awesome\"\n",
    "print(str1[2:5])"
   ]
  },
  {
   "cell_type": "markdown",
   "metadata": {},
   "source": [
    "# SLICE FROM START"
   ]
  },
  {
   "cell_type": "markdown",
   "metadata": {},
   "source": [
    "#### By leaving out the start index ,the range will start at the forst character and vice-versa"
   ]
  },
  {
   "cell_type": "code",
   "execution_count": null,
   "metadata": {},
   "outputs": [],
   "source": [
    "str1=\"hello world\"\n",
    "print(str1[:5])"
   ]
  },
  {
   "cell_type": "markdown",
   "metadata": {},
   "source": [
    "# NEGATIVE INDEXING"
   ]
  },
  {
   "cell_type": "markdown",
   "metadata": {},
   "source": [
    "        use negative indexing to start the slice from the end of the string"
   ]
  },
  {
   "cell_type": "code",
   "execution_count": null,
   "metadata": {},
   "outputs": [],
   "source": [
    "str1=\"hello world\"\n",
    "print(str1[-5:-2])"
   ]
  },
  {
   "cell_type": "markdown",
   "metadata": {},
   "source": [
    "# MODIFYING STRING"
   ]
  },
  {
   "cell_type": "markdown",
   "metadata": {},
   "source": [
    "##### python has built-in methods to modifying string"
   ]
  },
  {
   "cell_type": "markdown",
   "metadata": {},
   "source": [
    "- UPPER-CASE"
   ]
  },
  {
   "cell_type": "markdown",
   "metadata": {},
   "source": [
    "                The \"upper()\" method return the string in capital letter"
   ]
  },
  {
   "cell_type": "code",
   "execution_count": null,
   "metadata": {},
   "outputs": [],
   "source": [
    "str1=\"hello world\"\n",
    "print(str1.upper())\n"
   ]
  },
  {
   "cell_type": "markdown",
   "metadata": {},
   "source": [
    "- LOWER-CASE"
   ]
  },
  {
   "cell_type": "markdown",
   "metadata": {},
   "source": [
    "                The \"lower\" method return the string in samll letter"
   ]
  },
  {
   "cell_type": "code",
   "execution_count": null,
   "metadata": {},
   "outputs": [],
   "source": [
    "str1=\"hello world\"\n",
    "print(str1.lower())"
   ]
  },
  {
   "cell_type": "markdown",
   "metadata": {},
   "source": [
    "- REMOVE WHITE-SPACES"
   ]
  },
  {
   "cell_type": "markdown",
   "metadata": {},
   "source": [
    "##### white-space is the space before or after the string \n",
    "\n"
   ]
  },
  {
   "cell_type": "markdown",
   "metadata": {},
   "source": [
    "                the \"strip()\" method remove any white-space from the begining or end of the string"
   ]
  },
  {
   "cell_type": "code",
   "execution_count": null,
   "metadata": {},
   "outputs": [],
   "source": [
    "str1=\" hello world      \"\n",
    "#  before removing whitespace the len of string is 18\n",
    "print(len(str1))\n",
    "str1=str1.strip()\n",
    "# after removing spaces the len of string is 11\n",
    "print(len(str1))\n"
   ]
  },
  {
   "cell_type": "markdown",
   "metadata": {},
   "source": [
    "- REPLACE STRING"
   ]
  },
  {
   "cell_type": "markdown",
   "metadata": {},
   "source": [
    "                The \"replace()\" method replace a string with another string"
   ]
  },
  {
   "cell_type": "markdown",
   "metadata": {},
   "source": [
    "#### the replace method takes to parameters first need to pass the character which is going to replace and second which replace the previous one"
   ]
  },
  {
   "cell_type": "code",
   "execution_count": null,
   "metadata": {},
   "outputs": [],
   "source": [
    "str1=\"hello world\"\n",
    "print(str1.replace(\"h\",\"j\"))"
   ]
  },
  {
   "cell_type": "markdown",
   "metadata": {},
   "source": [
    "- SPLIT STRING"
   ]
  },
  {
   "cell_type": "markdown",
   "metadata": {},
   "source": [
    "                The \"split()\" method return a list where the text between the specified seperator become the list items"
   ]
  },
  {
   "cell_type": "code",
   "execution_count": null,
   "metadata": {},
   "outputs": [],
   "source": [
    "str1=\"hello,world\"\n",
    "print(str1.split(\",\"))"
   ]
  },
  {
   "cell_type": "markdown",
   "metadata": {},
   "source": [
    "- STIRNG CONCATENATION"
   ]
  },
  {
   "cell_type": "markdown",
   "metadata": {},
   "source": [
    "##### To concatenate or combine two string  we can use the \"+\" operator."
   ]
  },
  {
   "cell_type": "code",
   "execution_count": null,
   "metadata": {},
   "outputs": [],
   "source": [
    "a=\"hello\"\n",
    "b=\"world\"\n",
    "str1=a+b\n",
    "print(str1)"
   ]
  },
  {
   "cell_type": "markdown",
   "metadata": {},
   "source": [
    "# END PARAMETER"
   ]
  },
  {
   "cell_type": "markdown",
   "metadata": {},
   "source": [
    "- End parameter in python is used to make the sentance in one line,although the print is written in two different line, basically it remove the /n command which come default after using print()"
   ]
  },
  {
   "cell_type": "code",
   "execution_count": null,
   "metadata": {},
   "outputs": [],
   "source": [
    "print(\"my name is \",end=\"\")\n",
    "print(\"suraj chaubey\")"
   ]
  },
  {
   "cell_type": "markdown",
   "metadata": {},
   "source": [
    "# SEP PARAMETER"
   ]
  },
  {
   "cell_type": "markdown",
   "metadata": {},
   "source": [
    "- Sep paramter is used to seperate the two character by some symbol"
   ]
  },
  {
   "cell_type": "code",
   "execution_count": null,
   "metadata": {},
   "outputs": [],
   "source": [
    "print(\"Today's\",\"date is \",\"20\",\"7\",\"12\",sep=\"-\")"
   ]
  },
  {
   "cell_type": "markdown",
   "metadata": {},
   "source": [
    "# TAKING MULTIPLE INPUT"
   ]
  },
  {
   "cell_type": "markdown",
   "metadata": {},
   "source": [
    "- Split method help us to take multiple input in python"
   ]
  },
  {
   "cell_type": "code",
   "execution_count": null,
   "metadata": {},
   "outputs": [],
   "source": [
    "x,y=int(input(\"enter two number\").split())\n",
    "print(f\"your frist number is {x} and your second number is {y}\")"
   ]
  },
  {
   "cell_type": "markdown",
   "metadata": {},
   "source": [
    "# STRING FROMATING"
   ]
  },
  {
   "cell_type": "markdown",
   "metadata": {},
   "source": [
    "        the \"format()\" method takes the passed argument,fromat them and place them in the string where the placeholder \"{}\" are."
   ]
  },
  {
   "cell_type": "code",
   "execution_count": null,
   "metadata": {},
   "outputs": [],
   "source": [
    "age=36\n",
    "txt=\"my name is jhon and i am {} year old\"\n",
    "print(txt.format(age))"
   ]
  },
  {
   "cell_type": "markdown",
   "metadata": {},
   "source": [
    "# OR"
   ]
  },
  {
   "cell_type": "code",
   "execution_count": null,
   "metadata": {},
   "outputs": [],
   "source": [
    "print(\"my name is jhon and i am {} year old\".format(age))"
   ]
  },
  {
   "cell_type": "markdown",
   "metadata": {},
   "source": [
    "#### The format method takes unlimited number of argument and are placed into respective placeholder"
   ]
  },
  {
   "cell_type": "code",
   "execution_count": null,
   "metadata": {},
   "outputs": [],
   "source": [
    "quantity=3\n",
    "itemno=7\n",
    "price=54\n",
    "print(f\"i want {quantity} pices of item {itemno} for {price} dollar\")"
   ]
  },
  {
   "cell_type": "markdown",
   "metadata": {},
   "source": [
    "#### You can use index number {0} to be sure the argument are placed in the correct placeholder"
   ]
  },
  {
   "cell_type": "code",
   "execution_count": null,
   "metadata": {},
   "outputs": [],
   "source": [
    "print(\"i want to pay {2} dollar for {0} pices of item {1}\".format(quantity,itemno,price))"
   ]
  },
  {
   "cell_type": "markdown",
   "metadata": {},
   "source": [
    "# ESCAPE CHARACTER"
   ]
  },
  {
   "cell_type": "markdown",
   "metadata": {},
   "source": [
    "#### It alow you to use double qoutes when you normally would not be allowed"
   ]
  },
  {
   "cell_type": "code",
   "execution_count": null,
   "metadata": {},
   "outputs": [],
   "source": [
    "txt=\"we are the so-called \\\"viking\\\" from the north\"\n",
    "print(txt)"
   ]
  },
  {
   "cell_type": "markdown",
   "metadata": {},
   "source": [
    "# BOOLEAN VALUE:-"
   ]
  },
  {
   "cell_type": "markdown",
   "metadata": {},
   "source": [
    "#### When you compare two values the expression is evaluated and python report the boolean answer"
   ]
  },
  {
   "cell_type": "code",
   "execution_count": null,
   "metadata": {},
   "outputs": [],
   "source": [
    "print(10>9)\n",
    "print(10==9)"
   ]
  },
  {
   "cell_type": "markdown",
   "metadata": {},
   "source": [
    "### Evaluate values and variavble"
   ]
  },
  {
   "cell_type": "markdown",
   "metadata": {},
   "source": [
    "        the \"bool()\" function allow you to evaluate any value and give you True or False return"
   ]
  },
  {
   "cell_type": "code",
   "execution_count": null,
   "metadata": {},
   "outputs": [],
   "source": [
    "print(bool(\"hello\"))\n",
    "print(bool(15))"
   ]
  },
  {
   "cell_type": "markdown",
   "metadata": {},
   "source": [
    "         pyhton also has many built-in function that return a boolean value, like the \"isinstance()\" method ,which is use to determine if an object is of a certain datatype"
   ]
  },
  {
   "cell_type": "code",
   "execution_count": null,
   "metadata": {},
   "outputs": [],
   "source": [
    "x=200\n",
    "print(isinstance(x,int))"
   ]
  },
  {
   "cell_type": "markdown",
   "metadata": {},
   "source": [
    "# LIST"
   ]
  },
  {
   "cell_type": "markdown",
   "metadata": {},
   "source": [
    "- list can be defined by using square bracket"
   ]
  },
  {
   "cell_type": "markdown",
   "metadata": {},
   "source": [
    "- list items are ordered,changable,and alow duplicate values"
   ]
  },
  {
   "cell_type": "markdown",
   "metadata": {},
   "source": [
    "- list items are indexed, the first items has index[0],the second index[1] e.t.c"
   ]
  },
  {
   "cell_type": "markdown",
   "metadata": {},
   "source": [
    "- if you add a new item in list it will added to the end of the list"
   ]
  },
  {
   "cell_type": "markdown",
   "metadata": {},
   "source": [
    "- a list can conatin different datatypes"
   ]
  },
  {
   "cell_type": "code",
   "execution_count": null,
   "metadata": {},
   "outputs": [],
   "source": [
    "mylist=[\"suraj\",273,384.2733,\"navi\"]\n",
    "print(mylist[0])\n"
   ]
  },
  {
   "cell_type": "markdown",
   "metadata": {},
   "source": [
    "#### List length\n",
    "         length of the list can be found by using \"len()\"  \n",
    "         And to check the type of list we use \"type()\" function "
   ]
  },
  {
   "cell_type": "code",
   "execution_count": null,
   "metadata": {},
   "outputs": [],
   "source": [
    "print(len(mylist))"
   ]
  },
  {
   "cell_type": "markdown",
   "metadata": {},
   "source": [
    "#### The list constructor"
   ]
  },
  {
   "cell_type": "markdown",
   "metadata": {},
   "source": [
    "- it is also possible to use the list() constructor when creating a new list"
   ]
  },
  {
   "cell_type": "code",
   "execution_count": null,
   "metadata": {},
   "outputs": [],
   "source": [
    "mylist=list([1,2,3,4,45,5])\n",
    "mylist"
   ]
  },
  {
   "cell_type": "markdown",
   "metadata": {},
   "source": [
    "### Access item from list"
   ]
  },
  {
   "cell_type": "markdown",
   "metadata": {},
   "source": [
    "- List item are indexed and you can access them by referring to the index number\n",
    "- list also allow negative indexing\n",
    "- list item also can be accessed by giving range/negative range\n"
   ]
  },
  {
   "cell_type": "code",
   "execution_count": null,
   "metadata": {},
   "outputs": [],
   "source": [
    "mylist[3]\n",
    "mylist[-2]\n",
    "mylist[0:3]\n",
    "mylist[-4:-2]"
   ]
  },
  {
   "cell_type": "markdown",
   "metadata": {},
   "source": [
    "### Checking if items exist in list"
   ]
  },
  {
   "cell_type": "markdown",
   "metadata": {},
   "source": [
    "        To determine if a special item is present in a list use the \"in\" keyword"
   ]
  },
  {
   "cell_type": "code",
   "execution_count": null,
   "metadata": {},
   "outputs": [],
   "source": [
    "if 7 in mylist:\n",
    "    print(True)"
   ]
  },
  {
   "cell_type": "markdown",
   "metadata": {},
   "source": [
    "### Change list item"
   ]
  },
  {
   "cell_type": "markdown",
   "metadata": {},
   "source": [
    "- To change the value of specific item refer to the index number"
   ]
  },
  {
   "cell_type": "code",
   "execution_count": null,
   "metadata": {},
   "outputs": [],
   "source": [
    "mylist[1]=\"blackberry\"\n",
    "mylist"
   ]
  },
  {
   "cell_type": "markdown",
   "metadata": {},
   "source": [
    "### Change a range of item value"
   ]
  },
  {
   "cell_type": "markdown",
   "metadata": {},
   "source": [
    "- To change the value of item within the specify range,dfine a list- with new values and refer to the range of index number  where you want to insert the new value."
   ]
  },
  {
   "cell_type": "code",
   "execution_count": null,
   "metadata": {},
   "outputs": [],
   "source": [
    "mylist[1:3]=[\"mango\",\"grapes\"]\n",
    "mylist"
   ]
  },
  {
   "cell_type": "markdown",
   "metadata": {},
   "source": [
    "If you insert more items in that you replace, the new item will be inserted where you specified and the remaining items will move accordingly."
   ]
  },
  {
   "cell_type": "code",
   "execution_count": null,
   "metadata": {},
   "outputs": [],
   "source": [
    "mylist[0:1]=[\"juice\",\"curry\"]\n",
    "mylist"
   ]
  },
  {
   "cell_type": "markdown",
   "metadata": {},
   "source": [
    "### INSERT ITEMS IN LIST"
   ]
  },
  {
   "cell_type": "markdown",
   "metadata": {},
   "source": [
    "        To insert item in list without replacing any of the existing values,we can use the \"insert()\" method"
   ]
  },
  {
   "cell_type": "code",
   "execution_count": null,
   "metadata": {},
   "outputs": [],
   "source": [
    "mylist.insert(2,\"banana\")\n",
    "mylist"
   ]
  },
  {
   "cell_type": "markdown",
   "metadata": {},
   "source": [
    "### ADD ITEM TO THE LIST"
   ]
  },
  {
   "cell_type": "markdown",
   "metadata": {},
   "source": [
    "        To add item to the end of the list use \"append()\" method"
   ]
  },
  {
   "cell_type": "code",
   "execution_count": null,
   "metadata": {},
   "outputs": [],
   "source": [
    "mylist.append(\"prime minister\")\n",
    "mylist"
   ]
  },
  {
   "cell_type": "markdown",
   "metadata": {},
   "source": [
    "### EXTEND LIST"
   ]
  },
  {
   "cell_type": "markdown",
   "metadata": {},
   "source": [
    "         To append element from another list to other,use \"extend()\" method"
   ]
  },
  {
   "cell_type": "markdown",
   "metadata": {},
   "source": [
    "- The \"extend()\" method doest not have to append list only ,it can be any iterable like tube set dictionary"
   ]
  },
  {
   "cell_type": "code",
   "execution_count": null,
   "metadata": {},
   "outputs": [],
   "source": [
    "newlist=[\"japan\",\"india\"]\n",
    "mylist.extend(newlist)\n",
    "mylist"
   ]
  },
  {
   "cell_type": "markdown",
   "metadata": {},
   "source": [
    "### REMOVE SPECIFIED ITEM"
   ]
  },
  {
   "cell_type": "markdown",
   "metadata": {},
   "source": [
    "         TO REMOVE SPECIFIED ITEM USE \"REMOVE()\" METHOD"
   ]
  },
  {
   "cell_type": "code",
   "execution_count": null,
   "metadata": {},
   "outputs": [],
   "source": [
    "mylist.remove(\"japan\")\n",
    "mylist"
   ]
  },
  {
   "cell_type": "markdown",
   "metadata": {},
   "source": [
    "### REMOVE SPECIFIED INDEX"
   ]
  },
  {
   "cell_type": "markdown",
   "metadata": {},
   "source": [
    "        The \"pop()\" method remove the specified index"
   ]
  },
  {
   "cell_type": "markdown",
   "metadata": {},
   "source": [
    "- If you don't define the index  the pop() method will remove last element"
   ]
  },
  {
   "cell_type": "code",
   "execution_count": null,
   "metadata": {},
   "outputs": [],
   "source": [
    "mylist.pop(4)\n",
    "mylist.pop()"
   ]
  },
  {
   "cell_type": "markdown",
   "metadata": {},
   "source": [
    "### DELETING LIST OR ITEM FROM LIST"
   ]
  },
  {
   "cell_type": "markdown",
   "metadata": {},
   "source": [
    "        \"del\" keyword is used to delete the item in list or to delete the whole list"
   ]
  },
  {
   "cell_type": "code",
   "execution_count": null,
   "metadata": {},
   "outputs": [],
   "source": [
    "del mylist[2]\n",
    "del mylist"
   ]
  },
  {
   "cell_type": "markdown",
   "metadata": {},
   "source": [
    "        \"clear()\" method is also used to empty the list"
   ]
  },
  {
   "cell_type": "code",
   "execution_count": null,
   "metadata": {},
   "outputs": [],
   "source": [
    "newlist.clear()\n",
    "newlist.extend(x)\n",
    "newlist"
   ]
  },
  {
   "cell_type": "markdown",
   "metadata": {},
   "source": [
    "### LOOP THROUGH A LIST"
   ]
  },
  {
   "cell_type": "markdown",
   "metadata": {},
   "source": [
    "- You can loop through the list items by using a for loop/while loop.\n",
    "- Or item of list can be also accessable by indexing."
   ]
  },
  {
   "cell_type": "code",
   "execution_count": null,
   "metadata": {},
   "outputs": [],
   "source": [
    "for i in newlist:\n",
    "    print(i)\n",
    "\n",
    "for i in range(len(newlist)):\n",
    "    print(newlist[i])\n",
    "\n",
    "n=0\n",
    "while n<len(newlist):\n",
    "    print(newlist[n])\n",
    "    n+=1\n",
    "\n"
   ]
  },
  {
   "cell_type": "markdown",
   "metadata": {},
   "source": [
    "#### LOOPING USING LIST COMPREHENSSION"
   ]
  },
  {
   "cell_type": "markdown",
   "metadata": {},
   "source": [
    "- List comprehenssion offer shorter syntax when you wnat to create a new list based on the value of an existing list.\n",
    "- for example Based on the a list \"fruits\" you wnat to create a new list  conating only the fruits with  the letter \"a\" in the name."
   ]
  },
  {
   "cell_type": "code",
   "execution_count": null,
   "metadata": {},
   "outputs": [],
   "source": [
    "fruits=[\"apple \",\"banana\",\"cherry\",\"kiwi\",\"mango\"]\n",
    "a_fruits=[x for x in fruits if \"a\" in x]\n",
    "a_fruits"
   ]
  },
  {
   "cell_type": "markdown",
   "metadata": {},
   "source": [
    "### SORT LIST ALPHANUMERICALLY:"
   ]
  },
  {
   "cell_type": "markdown",
   "metadata": {},
   "source": [
    "- A list object have a \"sort()\" method that will sort the list alphanumerically,ascending by default\n",
    "- If you wnat to sort the list desecing order give tha parameter \"reverse=true\"."
   ]
  },
  {
   "cell_type": "code",
   "execution_count": null,
   "metadata": {},
   "outputs": [],
   "source": [
    "# ascending\n",
    "fruits.sort()\n",
    "# decending\n",
    "fruits.sort(reverse=True)"
   ]
  },
  {
   "cell_type": "markdown",
   "metadata": {},
   "source": [
    "#### customize sort function"
   ]
  },
  {
   "cell_type": "markdown",
   "metadata": {},
   "source": [
    "- you can also customize sort method  by using the keyword \"key\"."
   ]
  },
  {
   "cell_type": "code",
   "execution_count": null,
   "metadata": {},
   "outputs": [],
   "source": [
    "#  this code will return the number how the number is close to 50\n",
    "def myfunc(n):\n",
    "    return abs(n-50)\n",
    "thislist=[23,4,6,3,23356,5757,232]\n",
    "thislist.sort(key=myfunc)\n",
    "thislist\n"
   ]
  },
  {
   "cell_type": "markdown",
   "metadata": {},
   "source": [
    "### REVERSING THE ORDER OF LIST"
   ]
  },
  {
   "cell_type": "markdown",
   "metadata": {},
   "source": [
    "        The \"reverse()\" method reverse the order of the list."
   ]
  },
  {
   "cell_type": "code",
   "execution_count": null,
   "metadata": {},
   "outputs": [],
   "source": [
    "fruits.reverse()\n",
    "fruits"
   ]
  },
  {
   "cell_type": "markdown",
   "metadata": {},
   "source": [
    "### Copying a list"
   ]
  },
  {
   "cell_type": "markdown",
   "metadata": {},
   "source": [
    "- you can copy a list simply by using \"list1=list2\" and changes made in the one list will be also update in another list\n",
    "- the other way to copy a list by using \"copy()\" method."
   ]
  },
  {
   "cell_type": "code",
   "execution_count": null,
   "metadata": {},
   "outputs": [],
   "source": [
    "b_fruits=fruits.copy()\n",
    "b_fruits"
   ]
  },
  {
   "cell_type": "markdown",
   "metadata": {},
   "source": [
    "# PYTHON TUPLE"
   ]
  },
  {
   "cell_type": "markdown",
   "metadata": {},
   "source": [
    "- Tuple are used to store multiple items in a single variable.\n",
    "- It is a collection which is ordered and unchangable.\n",
    "- Tuple are written with round bracket"
   ]
  },
  {
   "cell_type": "code",
   "execution_count": null,
   "metadata": {},
   "outputs": [],
   "source": [
    "mytuple=(\"apple\",\"banana\",\"cherry\")\n",
    "mytuple"
   ]
  },
  {
   "cell_type": "markdown",
   "metadata": {},
   "source": [
    "- Tuple items are ordered,unchangable and allow duplicate values\n",
    "- We use len() function to measure length of tuple"
   ]
  },
  {
   "cell_type": "code",
   "execution_count": null,
   "metadata": {},
   "outputs": [],
   "source": [
    "len(mytuple)"
   ]
  },
  {
   "cell_type": "markdown",
   "metadata": {},
   "source": [
    "### CREATE TUPLE WITH ONE ITEM"
   ]
  },
  {
   "cell_type": "markdown",
   "metadata": {},
   "source": [
    "- To create a tuple with only one item you have to add a comma after the item,otherwise python will not recogonise as tuple\n",
    "- Tuple can contain differrent datatypes/"
   ]
  },
  {
   "cell_type": "code",
   "execution_count": null,
   "metadata": {},
   "outputs": [],
   "source": [
    "newtuple=(\"mango\",)\n",
    "type(newtuple)"
   ]
  },
  {
   "cell_type": "markdown",
   "metadata": {},
   "source": [
    "### The Tuple() constructor"
   ]
  },
  {
   "cell_type": "markdown",
   "metadata": {},
   "source": [
    "- It is also possible to use the tuple constructor- to make a tuple"
   ]
  },
  {
   "cell_type": "code",
   "execution_count": null,
   "metadata": {},
   "outputs": [],
   "source": [
    "new_tuple=tuple(fruits)"
   ]
  },
  {
   "cell_type": "markdown",
   "metadata": {},
   "source": [
    "### ACCESS TUPLE  ITEMS"
   ]
  },
  {
   "cell_type": "markdown",
   "metadata": {},
   "source": [
    "- You can access tuple items by referring to the index number\n",
    "- it also allow negative indexing "
   ]
  },
  {
   "cell_type": "code",
   "execution_count": null,
   "metadata": {},
   "outputs": [],
   "source": [
    "mytuple[2]\n",
    "mytuple[0:1]\n",
    "mytuple[-1:]"
   ]
  },
  {
   "cell_type": "markdown",
   "metadata": {},
   "source": [
    "### UPDATE TUPLE"
   ]
  },
  {
   "cell_type": "markdown",
   "metadata": {},
   "source": [
    "- You can make any change in value of tuple but there is workaround \n",
    "- you can convert the tuple into list ,make changes and convert back to tuple"
   ]
  },
  {
   "cell_type": "markdown",
   "metadata": {},
   "source": [
    "#### You are allowed allowed to add to tuple,so if you want to add one item or  many .create a new tuple with new item and add it to existing tuple\n",
    " - tuple can be deleted by using del keyword"
   ]
  },
  {
   "cell_type": "code",
   "execution_count": null,
   "metadata": {},
   "outputs": [],
   "source": [
    "x=(1,2,3,4,55)\n",
    "y=(3,)\n",
    "x+=y\n",
    "x"
   ]
  },
  {
   "cell_type": "markdown",
   "metadata": {},
   "source": [
    "# UNPACK TUPLES"
   ]
  },
  {
   "cell_type": "markdown",
   "metadata": {},
   "source": [
    "- We are also allowed to extract the value back called unpacking"
   ]
  },
  {
   "cell_type": "code",
   "execution_count": null,
   "metadata": {},
   "outputs": [],
   "source": [
    "fruits=tuple(fruits)\n",
    "a,b,c,d,e=fruits\n",
    "a\n",
    "b\n",
    "c\n",
    "d\n",
    "e"
   ]
  },
  {
   "cell_type": "markdown",
   "metadata": {},
   "source": [
    "### UNPACKING USING ASTRICK \"*\""
   ]
  },
  {
   "cell_type": "markdown",
   "metadata": {},
   "source": [
    "- If the no of variable are  less than the number of values,you can do add on  \"*\" to the variable name and the values will be assigned to the variable as a list"
   ]
  },
  {
   "cell_type": "code",
   "execution_count": null,
   "metadata": {},
   "outputs": [],
   "source": [
    "mytuple\n",
    "(a,b,*c) = mytuple\n"
   ]
  },
  {
   "cell_type": "markdown",
   "metadata": {},
   "source": [
    "#### If the astrick is added to the another variable name than the last python will assign value to the variable until the number of values left matches the number of lasdt variable left"
   ]
  },
  {
   "cell_type": "code",
   "execution_count": null,
   "metadata": {},
   "outputs": [],
   "source": [
    "(q,*w,r) = mytuple"
   ]
  },
  {
   "cell_type": "markdown",
   "metadata": {},
   "source": [
    "# SETS"
   ]
  },
  {
   "cell_type": "markdown",
   "metadata": {},
   "source": [
    "- Sets are used to dtore multiple items in a single variable\n",
    "- A set is a collection which is unordered,unchangable and unidexed.\n"
   ]
  },
  {
   "cell_type": "markdown",
   "metadata": {},
   "source": [
    "        NOTE:-Set item are unchangable but you can remove item and add new item to set"
   ]
  },
  {
   "cell_type": "markdown",
   "metadata": {},
   "source": [
    "        NOTE:-Set are unordered and also do not allow duplicate values"
   ]
  },
  {
   "cell_type": "markdown",
   "metadata": {},
   "source": [
    "#### True and 1 are considered as same and set treats as duplicate"
   ]
  },
  {
   "cell_type": "code",
   "execution_count": null,
   "metadata": {},
   "outputs": [],
   "source": [
    "thisset={\"apple\",\"banana\",\"cherry\"}\n",
    "thisset"
   ]
  },
  {
   "cell_type": "markdown",
   "metadata": {},
   "source": [
    "### THE SET CONSTRUCTOR"
   ]
  },
  {
   "cell_type": "markdown",
   "metadata": {},
   "source": [
    "- It is also possible to use \"set()\" constructor to make set\n",
    "- set constructor use double bracket"
   ]
  },
  {
   "cell_type": "code",
   "execution_count": null,
   "metadata": {},
   "outputs": [],
   "source": [
    "newset=set((1,2,4,6,7,9))\n",
    "newset"
   ]
  },
  {
   "cell_type": "markdown",
   "metadata": {},
   "source": [
    "### ACCESS ITEM OF SET"
   ]
  },
  {
   "cell_type": "markdown",
   "metadata": {},
   "source": [
    "- You can access item of set by using for loop or while loop"
   ]
  },
  {
   "cell_type": "code",
   "execution_count": null,
   "metadata": {},
   "outputs": [],
   "source": [
    "for i in newset:\n",
    "    print(i)"
   ]
  },
  {
   "cell_type": "markdown",
   "metadata": {},
   "source": [
    "### ADD ITEM IN SET"
   ]
  },
  {
   "cell_type": "markdown",
   "metadata": {},
   "source": [
    "         To add items in set we use \"add()\" method ."
   ]
  },
  {
   "cell_type": "code",
   "execution_count": null,
   "metadata": {},
   "outputs": [],
   "source": [
    "thisset.add(34)\n",
    "thisset"
   ]
  },
  {
   "cell_type": "markdown",
   "metadata": {},
   "source": [
    "### ADD SET TO ANOTHER SET"
   ]
  },
  {
   "cell_type": "markdown",
   "metadata": {},
   "source": [
    "        To add item from another set into the current set we use \"update()\" method"
   ]
  },
  {
   "cell_type": "code",
   "execution_count": null,
   "metadata": {},
   "outputs": [],
   "source": [
    "thisset.update(newset)\n",
    "thisset"
   ]
  },
  {
   "cell_type": "markdown",
   "metadata": {},
   "source": [
    "### REMOVE ITEMS FROM SET"
   ]
  },
  {
   "cell_type": "markdown",
   "metadata": {},
   "source": [
    "        To remove an items in a set ,we use the \"rmeove()\" or \"discard()\" method"
   ]
  },
  {
   "cell_type": "markdown",
   "metadata": {},
   "source": [
    "- You can also use pop() method remove item by indexing or last item"
   ]
  },
  {
   "cell_type": "code",
   "execution_count": null,
   "metadata": {},
   "outputs": [],
   "source": [
    "thisset.remove(\"banana\")\n",
    "thisset"
   ]
  },
  {
   "cell_type": "markdown",
   "metadata": {},
   "source": [
    "        NOTE:- if the item not present in set remove method will raise error while discard not"
   ]
  },
  {
   "cell_type": "markdown",
   "metadata": {},
   "source": [
    "### CLEAR SET"
   ]
  },
  {
   "cell_type": "markdown",
   "metadata": {},
   "source": [
    "        To clear set compeletely we use \"clear()\" method\n",
    "        and for deleting set we use \"del\" keyword"
   ]
  },
  {
   "cell_type": "code",
   "execution_count": null,
   "metadata": {},
   "outputs": [],
   "source": [
    "thisset.clear()\n",
    "del thisset"
   ]
  },
  {
   "cell_type": "markdown",
   "metadata": {},
   "source": [
    "### JOIN TWO SETS"
   ]
  },
  {
   "cell_type": "markdown",
   "metadata": {},
   "source": [
    "         You can \"union()\" method that return a new set conataning all item from both set  or the update () method that insert all the item from one set to another set"
   ]
  },
  {
   "cell_type": "markdown",
   "metadata": {},
   "source": [
    "- To keep only duplicate value from both sets we use \"intersection()\" method this method will do not return new set while if we use \"intersection_update()\" which will new set"
   ]
  },
  {
   "cell_type": "code",
   "execution_count": null,
   "metadata": {},
   "outputs": [],
   "source": [
    "set1={1,2,4,4,5}\n",
    "set2={6,7,8,9,10,5,6,71,2,34,2,3,4,1}\n",
    "set3=set1.union(set2)\n",
    "set3\n",
    "set1.intersection(set2)"
   ]
  },
  {
   "cell_type": "markdown",
   "metadata": {},
   "source": [
    "# Dictionary"
   ]
  },
  {
   "cell_type": "markdown",
   "metadata": {},
   "source": [
    "### Dictionary are used to store data values in key value pairs\n",
    "### A dictionary is a collection which is ordered,changeable and do not allow duplicate."
   ]
  },
  {
   "cell_type": "code",
   "execution_count": null,
   "metadata": {},
   "outputs": [],
   "source": [
    "thisdict={\"brand\":\"ford\",\"model\":\"mustang\",\"year\":1964}\n",
    "thisdict"
   ]
  },
  {
   "cell_type": "markdown",
   "metadata": {},
   "source": [
    "### Dictionary items are presented in key:value pairs and can be reffered to by using the name"
   ]
  },
  {
   "cell_type": "code",
   "execution_count": null,
   "metadata": {},
   "outputs": [],
   "source": [
    "thisdict[\"brand\"]"
   ]
  },
  {
   "cell_type": "markdown",
   "metadata": {},
   "source": [
    "### Dictionary does not allow duplicate item\n"
   ]
  },
  {
   "cell_type": "markdown",
   "metadata": {},
   "source": [
    "        we can access the length of dictionary by using len() function"
   ]
  },
  {
   "cell_type": "code",
   "execution_count": null,
   "metadata": {},
   "outputs": [],
   "source": [
    "len(thisdict)"
   ]
  },
  {
   "cell_type": "markdown",
   "metadata": {},
   "source": [
    "        The \"dict()\" constructor :-"
   ]
  },
  {
   "cell_type": "code",
   "execution_count": null,
   "metadata": {},
   "outputs": [],
   "source": [
    "newdict=dict(name=\"jhon\",age=36,country=\"india\")\n",
    "newdict"
   ]
  },
  {
   "cell_type": "markdown",
   "metadata": {},
   "source": [
    "### Accessing items"
   ]
  },
  {
   "cell_type": "markdown",
   "metadata": {},
   "source": [
    "- You can access items of a dictinary by referring to its name inside square bracket"
   ]
  },
  {
   "cell_type": "markdown",
   "metadata": {},
   "source": [
    "        there is also a \"get()\" method ,will give you the same result"
   ]
  },
  {
   "cell_type": "markdown",
   "metadata": {},
   "source": [
    "        There is also \"keys()\" method that will give the keys of dictinary"
   ]
  },
  {
   "cell_type": "markdown",
   "metadata": {},
   "source": [
    "- NOTE:- The list of the keys is a view of the dictionary,meaning that nay changes done to the dictionary will be reffered in the keys list"
   ]
  },
  {
   "cell_type": "code",
   "execution_count": null,
   "metadata": {},
   "outputs": [],
   "source": [
    "newdict[\"name\"]\n",
    "x=newdict.get(\"name\")\n",
    "y=newdict.keys()\n",
    "y"
   ]
  },
  {
   "cell_type": "markdown",
   "metadata": {},
   "source": [
    "### GET VALUES"
   ]
  },
  {
   "cell_type": "markdown",
   "metadata": {},
   "source": [
    "         The \"VALUES()\" method will return a list of all the values in the dictionary"
   ]
  },
  {
   "cell_type": "code",
   "execution_count": null,
   "metadata": {},
   "outputs": [],
   "source": [
    "newdict.values()"
   ]
  },
  {
   "cell_type": "markdown",
   "metadata": {},
   "source": [
    "### GET ITEMS"
   ]
  },
  {
   "cell_type": "markdown",
   "metadata": {},
   "source": [
    "        The \"items()\" method will return each item in a dictionary as tuple in a list"
   ]
  },
  {
   "cell_type": "code",
   "execution_count": null,
   "metadata": {},
   "outputs": [],
   "source": [
    "newdict.items()"
   ]
  },
  {
   "cell_type": "markdown",
   "metadata": {},
   "source": [
    "### CHANGE VALUES OF DICTINARY"
   ]
  },
  {
   "cell_type": "markdown",
   "metadata": {},
   "source": [
    "- You can change the value of specified item by reffering to its key name"
   ]
  },
  {
   "cell_type": "code",
   "execution_count": null,
   "metadata": {},
   "outputs": [],
   "source": [
    "newdict[\"country\"]"
   ]
  },
  {
   "cell_type": "markdown",
   "metadata": {},
   "source": [
    "### UPDATE DICTIONARY"
   ]
  },
  {
   "cell_type": "markdown",
   "metadata": {},
   "source": [
    "        the \"update()\" method will update the dictionary with the items from the given argument"
   ]
  },
  {
   "cell_type": "code",
   "execution_count": null,
   "metadata": {},
   "outputs": [],
   "source": [
    "newdict.update({\"country\":\"japan\"})\n",
    "newdict"
   ]
  },
  {
   "cell_type": "markdown",
   "metadata": {},
   "source": [
    "### ADDING ITEMS TO DICTIONARY"
   ]
  },
  {
   "cell_type": "markdown",
   "metadata": {},
   "source": [
    "- Adding an item to the dictinary is done by using a new index key and assinging a value to it"
   ]
  },
  {
   "cell_type": "code",
   "execution_count": null,
   "metadata": {},
   "outputs": [],
   "source": [
    "newdict[\"color\"]=\"red\"\n",
    "newdict"
   ]
  },
  {
   "cell_type": "markdown",
   "metadata": {},
   "source": [
    "### REMOVING ITEMS FORM DICTIONARY"
   ]
  },
  {
   "cell_type": "markdown",
   "metadata": {},
   "source": [
    "        The \"pop()\" method remove the item with the specified key name"
   ]
  },
  {
   "cell_type": "markdown",
   "metadata": {},
   "source": [
    "        The \"popitem()\" method remove the last inserted items but in latest version of python a random item is removed"
   ]
  },
  {
   "cell_type": "code",
   "execution_count": null,
   "metadata": {},
   "outputs": [],
   "source": [
    "# newdict.pop(\"color\")\n",
    "newdict.popitem()"
   ]
  },
  {
   "cell_type": "markdown",
   "metadata": {},
   "source": [
    "- The del keyword remove the item with the specified key name\n",
    "- the clear() method will empty the dictionary"
   ]
  },
  {
   "cell_type": "code",
   "execution_count": null,
   "metadata": {},
   "outputs": [],
   "source": [
    "# del newdict\n",
    "# newdict.clear()\n",
    "\n"
   ]
  },
  {
   "cell_type": "markdown",
   "metadata": {},
   "source": [
    "### LOOP THROUGH THE DICTIONARY "
   ]
  },
  {
   "cell_type": "markdown",
   "metadata": {},
   "source": [
    "- When looping through a dictionary the return value are the keys of the dictionary ,but there is method to return the values as well"
   ]
  },
  {
   "cell_type": "code",
   "execution_count": null,
   "metadata": {},
   "outputs": [],
   "source": [
    "# for i in newdict:\n",
    "#     print(i)\n",
    "\n",
    "# for j in newdict.values():\n",
    "#     print(j)\n",
    "\n",
    "# for i in newdict.keys():\n",
    "#     print(i)\n",
    "\n",
    "for i in newdict.items():\n",
    "    print(i)"
   ]
  },
  {
   "cell_type": "markdown",
   "metadata": {},
   "source": [
    "### COPY A DCITIONARY"
   ]
  },
  {
   "cell_type": "markdown",
   "metadata": {},
   "source": [
    "- To copy a dictionary , one way is to use the built-in method \"copy()\""
   ]
  },
  {
   "cell_type": "code",
   "execution_count": null,
   "metadata": {},
   "outputs": [],
   "source": [
    "newdict"
   ]
  },
  {
   "cell_type": "code",
   "execution_count": null,
   "metadata": {},
   "outputs": [],
   "source": [
    "hedict=newdict.copy()\n",
    "hedict"
   ]
  },
  {
   "cell_type": "markdown",
   "metadata": {},
   "source": [
    "### NESTED DICTIONARY"
   ]
  },
  {
   "cell_type": "markdown",
   "metadata": {},
   "source": [
    "- A dictionary can conatain dictionary this is called nested dictionaries"
   ]
  },
  {
   "cell_type": "code",
   "execution_count": null,
   "metadata": {},
   "outputs": [],
   "source": [
    "nsdict={\n",
    "    \"child1\":{\n",
    "        \"name\":\"email\",\n",
    "        \"year\":2004\n",
    "    },\n",
    "    \"child2\":{\n",
    "        \"name\":\"tobias\",\n",
    "        \"year\":2007\n",
    "    },\n",
    "    \"child3\":{\n",
    "        \"name\":\"linus\",\n",
    "        \"year\":2003\n",
    "    }\n",
    "}\n",
    "nsdict"
   ]
  },
  {
   "cell_type": "markdown",
   "metadata": {},
   "source": [
    "### ACCESS ITEM IN NESTED DICTIONARIES"
   ]
  },
  {
   "cell_type": "markdown",
   "metadata": {},
   "source": [
    "- To access items from a nested dictioanry you use the name of dictionary,starting with the outer dictionary"
   ]
  },
  {
   "cell_type": "code",
   "execution_count": null,
   "metadata": {},
   "outputs": [],
   "source": [
    "nsdict[\"child2\"][\"name\"]"
   ]
  },
  {
   "cell_type": "markdown",
   "metadata": {},
   "source": [
    "### IF-ELSE STATEMENT"
   ]
  },
  {
   "cell_type": "markdown",
   "metadata": {},
   "source": [
    "- An \"if statment\" is written by using the if keyword. this keyword is used to check the specific condition.\n",
    "- There is \"elif\" keyword which is use to to check the next condition if the previous one is not true\n",
    "- And \"else\" keyword catches which isn't caught by the preceeding condition."
   ]
  },
  {
   "cell_type": "code",
   "execution_count": null,
   "metadata": {},
   "outputs": [],
   "source": [
    "a=200\n",
    "b=33\n",
    "if a<b:\n",
    "    print(\"b is greater than a \")\n",
    "elif a==b:\n",
    "    print(\"a and b are equal\")\n",
    "else:\n",
    "    print(\"a is greater than b\")"
   ]
  },
  {
   "cell_type": "markdown",
   "metadata": {},
   "source": [
    "###     SHORT HAND IF-ELSE"
   ]
  },
  {
   "cell_type": "code",
   "execution_count": null,
   "metadata": {},
   "outputs": [],
   "source": [
    "# if a>b:print(\"a is greater than b\")\n",
    "\n",
    "# print(\"a is greater than b\") if a>b else print(\"b is greater than a\")\n",
    "\n",
    "print(\"A\") if a<b else print(\"=\") if a==b else print(\"B\")"
   ]
  },
  {
   "cell_type": "markdown",
   "metadata": {},
   "source": [
    "### NESTED IF-ELSE"
   ]
  },
  {
   "cell_type": "code",
   "execution_count": null,
   "metadata": {},
   "outputs": [],
   "source": [
    "x=41\n",
    "if x>10:\n",
    "    print(\"above 10\")\n",
    "if x>20:\n",
    "    print(\"above twenty\")\n",
    "else:\n",
    "    print(\"but not above twebty\")\n",
    "\n"
   ]
  },
  {
   "cell_type": "markdown",
   "metadata": {},
   "source": [
    "### THE PASS STATEMENT"
   ]
  },
  {
   "cell_type": "markdown",
   "metadata": {},
   "source": [
    "- If statement cannot be empty,but if you for some reason have an if statement with no content,put in the pass statement to avoid getting error."
   ]
  },
  {
   "cell_type": "code",
   "execution_count": null,
   "metadata": {},
   "outputs": [],
   "source": [
    "if b>a:\n",
    "    pass"
   ]
  },
  {
   "cell_type": "markdown",
   "metadata": {},
   "source": [
    "### WHILE LOOP"
   ]
  },
  {
   "cell_type": "markdown",
   "metadata": {},
   "source": [
    "- With the while loop we can execute a set of statement as long as a condition is true"
   ]
  },
  {
   "cell_type": "code",
   "execution_count": null,
   "metadata": {},
   "outputs": [],
   "source": [
    "i=1\n",
    "while i<6:\n",
    "    print(i)\n",
    "    i+=1\n",
    "    "
   ]
  },
  {
   "cell_type": "markdown",
   "metadata": {},
   "source": [
    "### BREAK STATEMENT"
   ]
  },
  {
   "cell_type": "markdown",
   "metadata": {},
   "source": [
    "- With the break statement ,we can stop the loop even if the while condition is true"
   ]
  },
  {
   "cell_type": "code",
   "execution_count": null,
   "metadata": {},
   "outputs": [],
   "source": [
    "i=1\n",
    "while i<6:\n",
    "    print(i)\n",
    "    if i==3:\n",
    "        break\n",
    "    i+=1\n",
    "    "
   ]
  },
  {
   "cell_type": "markdown",
   "metadata": {},
   "source": [
    "### THE CONTINUE STATEMENT"
   ]
  },
  {
   "cell_type": "markdown",
   "metadata": {},
   "source": [
    "- with the continue statement we can stop the current iteration and continue with the next"
   ]
  },
  {
   "cell_type": "code",
   "execution_count": null,
   "metadata": {},
   "outputs": [],
   "source": [
    "i=0\n",
    "while i<6:\n",
    "    i+=1\n",
    "    if i==3:\n",
    "        continue\n",
    "    print(i)"
   ]
  },
  {
   "cell_type": "markdown",
   "metadata": {},
   "source": [
    "### THE ESLE STATEMENT"
   ]
  },
  {
   "cell_type": "markdown",
   "metadata": {},
   "source": [
    "- With the else statement we can run a block of code once when the condition no longer is true"
   ]
  },
  {
   "cell_type": "code",
   "execution_count": null,
   "metadata": {},
   "outputs": [],
   "source": [
    "i=1\n",
    "while i<6:\n",
    "    print(i)\n",
    "    i+=1\n",
    "else:\n",
    "    print('i is no longer samaller than 6')"
   ]
  },
  {
   "cell_type": "markdown",
   "metadata": {},
   "source": [
    "### PYTHON FOR LOOP"
   ]
  },
  {
   "cell_type": "markdown",
   "metadata": {},
   "source": [
    "- A for loop is used ot iterating over a sequence."
   ]
  },
  {
   "cell_type": "code",
   "execution_count": null,
   "metadata": {},
   "outputs": [],
   "source": [
    "zim=[2,3,4,5,67543626,16,3416,41,6136,7452,757,457,467]\n",
    "for i in zim:\n",
    "    print(i)\n",
    "\n",
    "for x in \"bananana\":\n",
    "    print(x)"
   ]
  },
  {
   "cell_type": "markdown",
   "metadata": {},
   "source": [
    "### THE RANGE FUNCTION\n"
   ]
  },
  {
   "cell_type": "markdown",
   "metadata": {},
   "source": [
    "- To lop through a set of code a specified number of time ,we can use the range() function\n",
    "- The range() function return a sequence of number, starting from 0 by default and increament by 1\n",
    "- The range function default to increament by one however it is possible to specify the increament value by adding a third parameter :range(2,30,3)"
   ]
  },
  {
   "cell_type": "code",
   "execution_count": null,
   "metadata": {},
   "outputs": [],
   "source": [
    "for i in range(6):\n",
    "    print(i)\n",
    "for x in range(2,6):\n",
    "    print(x)\n",
    "for i in range(2,30,3):\n",
    "    print(i)"
   ]
  },
  {
   "cell_type": "markdown",
   "metadata": {},
   "source": [
    "### ELSE IN FOR LOOP"
   ]
  },
  {
   "cell_type": "markdown",
   "metadata": {},
   "source": [
    "- The else keyword in a loop specifies a block of code to be executed when the loop is finished\n",
    "- The else keyword in a loop will not executed if the loop is stoppeed by a break statement"
   ]
  },
  {
   "cell_type": "code",
   "execution_count": null,
   "metadata": {},
   "outputs": [],
   "source": [
    "for x in range(6):\n",
    "    if x==3:\n",
    "        break\n",
    "    print(x)\n",
    "else:\n",
    "    print(\"finally fininshed\")"
   ]
  },
  {
   "cell_type": "markdown",
   "metadata": {},
   "source": [
    "### NESTED LOOP"
   ]
  },
  {
   "cell_type": "markdown",
   "metadata": {},
   "source": [
    "- The \"inner loop\" will be executed one time for each iteration of the \"outer loop\""
   ]
  },
  {
   "cell_type": "code",
   "execution_count": null,
   "metadata": {},
   "outputs": [],
   "source": [
    "color=[\"red\",'blue','white','voilet','black','pink']\n",
    "obj=['mango','toy','bus','car','wheel','star']\n",
    "for i in color:\n",
    "    for j in obj:\n",
    "        print(i,j)"
   ]
  },
  {
   "cell_type": "markdown",
   "metadata": {},
   "source": [
    "### FUNCTION IN PYTHON\n"
   ]
  },
  {
   "cell_type": "markdown",
   "metadata": {},
   "source": [
    "- A function is a block of code which onlyu runs when it called\n",
    "- A function can return a data as a result\n",
    "- To define a function in python we use \"def\" statement \n",
    "- SYNATX: def function_name(parameter):\n",
    "                    pass"
   ]
  },
  {
   "cell_type": "code",
   "execution_count": null,
   "metadata": {},
   "outputs": [],
   "source": [
    "def myfunc():\n",
    "    print(\"hello\")"
   ]
  },
  {
   "cell_type": "markdown",
   "metadata": {},
   "source": [
    "### ARGUMENT IN PYTHON"
   ]
  },
  {
   "cell_type": "markdown",
   "metadata": {},
   "source": [
    "- Information can be pass into function as a argument\n",
    "- Argument are specified after the function name ,inside the pranrhesises .You can add as many argument as ypou wnat ,just seperate them with a comma"
   ]
  },
  {
   "cell_type": "code",
   "execution_count": null,
   "metadata": {},
   "outputs": [],
   "source": [
    "def newfunc(fname):\n",
    "    print(fname+\" refsnes\")\n",
    "newfunc(\"jhon\")"
   ]
  },
  {
   "cell_type": "markdown",
   "metadata": {},
   "source": [
    "### NUMBER OF ARGUMENTS"
   ]
  },
  {
   "cell_type": "markdown",
   "metadata": {},
   "source": [
    "#### By default , a function must be called with the correct  number of argument.Meaning that if your function expect 2 argument,you have to call function with 2 argument not more or less than that"
   ]
  },
  {
   "cell_type": "code",
   "execution_count": null,
   "metadata": {},
   "outputs": [],
   "source": [
    "def call_name(fname,lname):\n",
    "    print(fname+lname)\n",
    "call_name(\"suraj\",\"chaubey\")\n"
   ]
  },
  {
   "cell_type": "markdown",
   "metadata": {},
   "source": [
    "### ARBITARY ARGUMENT ,*ARGS"
   ]
  },
  {
   "cell_type": "markdown",
   "metadata": {},
   "source": [
    "- If you do not know how many argument that will be passed into your function add a* before the parameter name in the function\n",
    "- This way the function will recieve a tuple of arguments and can access the item accordingly"
   ]
  },
  {
   "cell_type": "code",
   "execution_count": null,
   "metadata": {},
   "outputs": [],
   "source": [
    "def hifunc(*kids):\n",
    "    print(\"The youngest child is \"+kids[2])\n",
    "hifunc('Emil','aadi','suraj')"
   ]
  },
  {
   "cell_type": "markdown",
   "metadata": {},
   "source": [
    "### KEYWORD ARGUMENTS"
   ]
  },
  {
   "cell_type": "markdown",
   "metadata": {},
   "source": [
    "- you can also send argument with the key=value syntax\n",
    "- This way the order of the argument does not matter"
   ]
  },
  {
   "cell_type": "code",
   "execution_count": null,
   "metadata": {},
   "outputs": [],
   "source": [
    "def keyfunc(child1,child2,child3):\n",
    "    print(\"The youngest child is \"+ child3)\n",
    "keyfunc(child1='Emil',child2='jhon',child3='michel')"
   ]
  },
  {
   "cell_type": "markdown",
   "metadata": {},
   "source": [
    "### ARBITARY KEYWORD ARGUMENT,**KWARGS"
   ]
  },
  {
   "cell_type": "markdown",
   "metadata": {},
   "source": [
    "- If you do not know how many keyword argument that will be paused into your function,add two asterick ** before the parameter name in the function definition.\n",
    "- This way that function will recieve a dictionary of argument and can access the items accordingly"
   ]
  },
  {
   "cell_type": "code",
   "execution_count": null,
   "metadata": {},
   "outputs": [],
   "source": [
    "def kwfunc(**kids):\n",
    "    print(\"The youngest child is \"+ kids['name'])\n",
    "kwfunc(fname='tobias',name='refense')\n"
   ]
  },
  {
   "cell_type": "markdown",
   "metadata": {},
   "source": [
    "### DEFAULT PARAMETER VALUE"
   ]
  },
  {
   "cell_type": "markdown",
   "metadata": {},
   "source": [
    "- If we call the function without  argument, it uses the default value"
   ]
  },
  {
   "cell_type": "code",
   "execution_count": null,
   "metadata": {},
   "outputs": [],
   "source": [
    "def countfunc(Country=\"norway\"):\n",
    "    print('i am from '+ Country)\n",
    "countfunc('sweden')\n",
    "countfunc('India')\n",
    "countfunc()\n",
    "\n"
   ]
  },
  {
   "cell_type": "markdown",
   "metadata": {},
   "source": [
    "### PASSING A LIST AS ARGUMENT"
   ]
  },
  {
   "cell_type": "markdown",
   "metadata": {},
   "source": [
    "- You can send any data types of argument to a function"
   ]
  },
  {
   "cell_type": "code",
   "execution_count": null,
   "metadata": {},
   "outputs": [],
   "source": [
    "def listfunc(food):\n",
    "    for i in food:\n",
    "        print(i)\n",
    "listfunc(['apple','mango','juice'])"
   ]
  },
  {
   "cell_type": "markdown",
   "metadata": {},
   "source": [
    "### THE PASS STATEMENT "
   ]
  },
  {
   "cell_type": "markdown",
   "metadata": {},
   "source": [
    "- Function definition can not be empty but if ypu for some reason having a function with no content put in the pass statement to avoid getting error"
   ]
  },
  {
   "cell_type": "code",
   "execution_count": null,
   "metadata": {},
   "outputs": [],
   "source": [
    "def prfunc():\n",
    "    pass"
   ]
  },
  {
   "cell_type": "markdown",
   "metadata": {},
   "source": [
    "### LANBDA FUNCTION"
   ]
  },
  {
   "cell_type": "markdown",
   "metadata": {},
   "source": [
    "- A lambda function is a small anonymous fucntion\n",
    "- A lambda function can take any no. of argument but can only have one expression\n",
    "- You can use lambda function inside any function\n",
    "- Say you have a function that take a argument and that argument will be multiplied with an unknown number"
   ]
  },
  {
   "cell_type": "code",
   "execution_count": null,
   "metadata": {},
   "outputs": [],
   "source": [
    "# syntax:\n",
    "# lambda argument:expression\n",
    "# x=lambda a:a+10\n",
    "# print(x(5))\n",
    "x=lambda a,b:a+b\n",
    "print(x(3,5))"
   ]
  },
  {
   "cell_type": "code",
   "execution_count": null,
   "metadata": {},
   "outputs": [],
   "source": [
    "def lmbfunc(x):\n",
    "    return lambda a:a*x\n",
    "x=lmbfunc(4)\n",
    "print(x(3))"
   ]
  },
  {
   "cell_type": "markdown",
   "metadata": {},
   "source": [
    "### PYTHON CLASS AND OBJECTS"
   ]
  },
  {
   "cell_type": "markdown",
   "metadata": {},
   "source": [
    "- python is an object oriented programming language\n",
    "- Almost everything in python is an object with its properties and method\n",
    "- To create a class ,use the \"class\" keyword\n",
    "- we can use the class named myclass by creating object for this"
   ]
  },
  {
   "cell_type": "code",
   "execution_count": null,
   "metadata": {},
   "outputs": [],
   "source": [
    "class myclass:\n",
    "    x=5\n",
    "p1=myclass()\n",
    "print(p1.x)"
   ]
  },
  {
   "cell_type": "markdown",
   "metadata": {},
   "source": [
    "### THE __INIT__ FUNCTION."
   ]
  },
  {
   "cell_type": "markdown",
   "metadata": {},
   "source": [
    "- All class have a function called __init__() function,which is always executed when the class is being inintiated\n",
    "- Use the __init__ function to assign value to object properties,or other operation that are neccessary to do when the object is being created \n",
    "- Create a class name person,use the init function to assign value for name and age"
   ]
  },
  {
   "cell_type": "code",
   "execution_count": null,
   "metadata": {},
   "outputs": [],
   "source": [
    "class person:\n",
    "    def __init__(self,name,age) -> None:\n",
    "        self.name=name\n",
    "        self.age=age\n",
    "p1=person('jhon',36)\n",
    "print(p1.name)\n",
    "print(p1.age)"
   ]
  },
  {
   "cell_type": "markdown",
   "metadata": {},
   "source": [
    "### THE ___STR__() FUNCTION"
   ]
  },
  {
   "cell_type": "markdown",
   "metadata": {},
   "source": [
    "#### The __str__() function controls what should be returned when the class object is represented as a string\n",
    "### NOTE:- The self parameter is a reference to the current instance of the class and is used to access varibale that belong to the class"
   ]
  },
  {
   "cell_type": "code",
   "execution_count": null,
   "metadata": {},
   "outputs": [],
   "source": [
    "class person:\n",
    "    def __init__(self,name,age) -> None:\n",
    "        self.name=name\n",
    "        self.age=age\n",
    "    def __str__(self) -> str:\n",
    "        return f\"{self.name} {self.age}\"\n",
    "p1=person('jhon',36)\n",
    "print(p1)\n",
    "        "
   ]
  },
  {
   "cell_type": "markdown",
   "metadata": {},
   "source": [
    "### THE SELF PARAMETER"
   ]
  },
  {
   "cell_type": "markdown",
   "metadata": {},
   "source": [
    "- It does not have to named self,you can call it whatever you like,but it has to be the first parameter of any  fucntion in the class."
   ]
  },
  {
   "cell_type": "code",
   "execution_count": null,
   "metadata": {},
   "outputs": [],
   "source": [
    "class person:\n",
    "    def __init__(abc,name,age) -> None:\n",
    "        abc.name=name\n",
    "        abc.age=age\n",
    "p1=person(\"jhon\",38)\n",
    "print(p1.name)"
   ]
  },
  {
   "cell_type": "markdown",
   "metadata": {},
   "source": [
    "### Modify object properties"
   ]
  },
  {
   "cell_type": "markdown",
   "metadata": {},
   "source": [
    "- you  can modify properties on object like this"
   ]
  },
  {
   "cell_type": "code",
   "execution_count": 2,
   "metadata": {},
   "outputs": [
    {
     "ename": "NameError",
     "evalue": "name 'p1' is not defined",
     "output_type": "error",
     "traceback": [
      "\u001b[0;31m---------------------------------------------------------------------------\u001b[0m",
      "\u001b[0;31mNameError\u001b[0m                                 Traceback (most recent call last)",
      "Cell \u001b[0;32mIn[2], line 1\u001b[0m\n\u001b[0;32m----> 1\u001b[0m \u001b[43mp1\u001b[49m\u001b[38;5;241m.\u001b[39mage\u001b[38;5;241m=\u001b[39m\u001b[38;5;241m40\u001b[39m\n\u001b[1;32m      2\u001b[0m \u001b[38;5;28mprint\u001b[39m(p1\u001b[38;5;241m.\u001b[39mage)\n",
      "\u001b[0;31mNameError\u001b[0m: name 'p1' is not defined"
     ]
    }
   ],
   "source": [
    "p1.age=40\n",
    "print(p1.age)"
   ]
  },
  {
   "cell_type": "markdown",
   "metadata": {},
   "source": [
    "### DELETE OBJECT PROPERTIES"
   ]
  },
  {
   "cell_type": "markdown",
   "metadata": {},
   "source": [
    "- You can delete properties on object by using the del keywords"
   ]
  },
  {
   "cell_type": "code",
   "execution_count": null,
   "metadata": {},
   "outputs": [],
   "source": [
    "# del p1.age\n",
    "print(p1.age)"
   ]
  },
  {
   "cell_type": "markdown",
   "metadata": {},
   "source": [
    "### PYTHON INHERITANCE"
   ]
  },
  {
   "cell_type": "markdown",
   "metadata": {},
   "source": [
    "- Inheritance allow us to define a class that inherit all method and properties from another class\n",
    "- parent class is the class bieng inherited from ,also called base class\n",
    "- Child class is the class that inherit from another class also called derived class"
   ]
  },
  {
   "cell_type": "markdown",
   "metadata": {},
   "source": [
    "### CREATE A PARENT CLASS"
   ]
  },
  {
   "cell_type": "code",
   "execution_count": null,
   "metadata": {},
   "outputs": [],
   "source": [
    "class person:\n",
    "    def __init__(self,fname,lname) -> None:\n",
    "        self.fname=fname\n",
    "        self.lname=lname\n",
    "\n",
    "    def print_name(self):\n",
    "        print(self.fname,self.lname)\n",
    "p1=person('jhon',39)\n",
    "p1.print_name()"
   ]
  },
  {
   "cell_type": "markdown",
   "metadata": {},
   "source": [
    "### CREATE A CHILD CLASS"
   ]
  },
  {
   "cell_type": "markdown",
   "metadata": {},
   "source": [
    "- To create a child class that inherit the functionality from another class send the parent class as a parameter when creating the child class and child class have all functionality of parent class"
   ]
  },
  {
   "cell_type": "code",
   "execution_count": null,
   "metadata": {},
   "outputs": [],
   "source": [
    "class child(person):\n",
    "    pass"
   ]
  },
  {
   "cell_type": "markdown",
   "metadata": {},
   "source": [
    "### ADD INIT FUNCTION TO THE CHILD CLASS"
   ]
  },
  {
   "cell_type": "markdown",
   "metadata": {},
   "source": [
    "- If we wnat to add __init__() function to child class\n",
    "- When you add init function the child class will no longer inherit the parent's __init()__n function\n",
    "- To keep the inheritance of parent's init() function add a call to parent's __init__() function\n"
   ]
  },
  {
   "cell_type": "markdown",
   "metadata": {},
   "source": [
    "- python also has a \"super()\" function that will make the child class inherit all the methods and properties from it's parents\n",
    "- By using this ,You do not have to use the parent class name,it will auto inherit the methods and properties"
   ]
  },
  {
   "cell_type": "code",
   "execution_count": null,
   "metadata": {},
   "outputs": [],
   "source": [
    "# class child(person):\n",
    "#     def __init__(self,fname,lname):\n",
    "#         pass\n",
    "\n",
    "class child(person):\n",
    "    def __init__(self, fname, lname) -> None:\n",
    "        super().__init__(fname, lname)\n",
    "        self.graduateyear=2019\n",
    "p1=child('mike','olsen')\n",
    "p1.print_name()\n",
    "print(p1.graduateyear)\n",
    "\n",
    "# or \n",
    "# class child(person):\n",
    "#     def __init__(self, fname, lname) -> None:\n",
    "#         person.__init__(fname, lname)"
   ]
  },
  {
   "cell_type": "markdown",
   "metadata": {},
   "source": [
    "### PYTHON ITERATOR:"
   ]
  },
  {
   "cell_type": "markdown",
   "metadata": {},
   "source": [
    " - An iterator is an object that can be iterator upon ,meaning that you can traverse all the values.\n",
    " - Technically in python an iterator is an object which implement the iterator protocol,which consist of the methods __iter()__ and __next()__."
   ]
  },
  {
   "cell_type": "code",
   "execution_count": null,
   "metadata": {},
   "outputs": [],
   "source": [
    "mytuple=('apple','banana','cherry')\n",
    "myit= iter(mytuple) \n",
    "print(next(myit))  \n",
    "print(next(myit))    \n",
    "print(next(myit))      \n",
    "# print(next(myit))    "
   ]
  },
  {
   "cell_type": "markdown",
   "metadata": {},
   "source": [
    "### Even string are also iterable object"
   ]
  },
  {
   "cell_type": "code",
   "execution_count": null,
   "metadata": {},
   "outputs": [],
   "source": [
    "mystr=\"madan\"\n",
    "myit=(iter(mystr))\n",
    "print(next(myit))\n",
    "print(next(myit))\n",
    "print(next(myit))\n",
    "\n"
   ]
  },
  {
   "cell_type": "markdown",
   "metadata": {},
   "source": [
    "### CREATE AN ITERATOR"
   ]
  },
  {
   "cell_type": "markdown",
   "metadata": {},
   "source": [
    "- To create an class as an iterator you have to implement __iter()__ and __next()__ to your object"
   ]
  },
  {
   "cell_type": "markdown",
   "metadata": {},
   "source": [
    "- The __iter__() method acts similarly, you can do operation ,but must always return the iterator object itself.\n",
    "- The __next__() method also allows you to do operation and must return next item in the sequence\n",
    "- Create a iterator that  returns numbers,starting with 1 and ends each sequence will increase by one"
   ]
  },
  {
   "cell_type": "code",
   "execution_count": null,
   "metadata": {},
   "outputs": [],
   "source": [
    "class  mynumber:\n",
    "    def __iter__(self):\n",
    "        self.a=1\n",
    "        return self\n",
    "    def __next__(self):\n",
    "        x=self.a\n",
    "        self.a+=1\n",
    "        return x\n",
    "obj=mynumber()\n",
    "myiter=iter(obj)\n",
    "print(next(myiter))\n",
    "print(next(myiter))\n",
    "print(next(myiter))"
   ]
  },
  {
   "cell_type": "markdown",
   "metadata": {},
   "source": [
    "### STOPITERATION"
   ]
  },
  {
   "cell_type": "markdown",
   "metadata": {},
   "source": [
    "- To prevent the iteration from going on forever,we can use stopiteration statement\n",
    "- In the __next__() method,we can add a terminating condition to raise an error,if the iteration is done"
   ]
  },
  {
   "cell_type": "code",
   "execution_count": null,
   "metadata": {},
   "outputs": [],
   "source": [
    "class  mynumber:\n",
    "    def __iter__(self):\n",
    "        self.a=1\n",
    "        return self\n",
    "    def __next__(self):\n",
    "        if self.a<=20:\n",
    "            x=self.a\n",
    "            self.a+=1\n",
    "            return x\n",
    "        else:\n",
    "            raise StopIteration\n",
    "        \n",
    "obj=mynumber()\n",
    "myiter=iter(obj)\n",
    "for i in myiter:\n",
    "    print(i)"
   ]
  },
  {
   "cell_type": "markdown",
   "metadata": {},
   "source": [
    "### EXCEPTION HANDLING"
   ]
  },
  {
   "cell_type": "markdown",
   "metadata": {},
   "source": [
    "#### Try-Except"
   ]
  },
  {
   "cell_type": "markdown",
   "metadata": {},
   "source": [
    "- when an error occur or exeception as we call it ,python will normally stop and generate error message\n",
    "- These exeception can be handled by using try statement"
   ]
  },
  {
   "cell_type": "markdown",
   "metadata": {},
   "source": [
    "- Try block lets you test a block of code for errors\n",
    "- Except block lets you handle the errors\n",
    "- Else block lets you execute code when there is no error\n",
    "- Finally block lets you execute code,regardless of the result of the try and except blocks\n",
    "- You can define as many exception block as you want if you want to execute a special block of code for a special kind of error"
   ]
  },
  {
   "cell_type": "markdown",
   "metadata": {},
   "source": [
    "#### For example print one message if the try block raise as nameerror and another for other error"
   ]
  },
  {
   "cell_type": "code",
   "execution_count": null,
   "metadata": {},
   "outputs": [],
   "source": [
    "# try:\n",
    "#     print(x)\n",
    "# except:\n",
    "#     print(\"x is not define by you\")\n",
    "\n",
    "try:\n",
    "    print(x)\n",
    "except NameError:\n",
    "    print(\"x variable is not define\")\n",
    "except:\n",
    "    print(\"Something else went Wrong\")"
   ]
  },
  {
   "cell_type": "markdown",
   "metadata": {},
   "source": [
    "### ELSE STATEMENT"
   ]
  },
  {
   "cell_type": "markdown",
   "metadata": {},
   "source": [
    "- You can use the else keyword to define a block of code to be executed if no errors were raised"
   ]
  },
  {
   "cell_type": "code",
   "execution_count": null,
   "metadata": {},
   "outputs": [],
   "source": [
    "try:\n",
    "    print(\"hello\")\n",
    "except:\n",
    "    print(\"something went wrong\")\n",
    "else:\n",
    "    print(\"nothing went wrong\")"
   ]
  },
  {
   "cell_type": "markdown",
   "metadata": {},
   "source": [
    "### FINALLY STATEMENT"
   ]
  },
  {
   "cell_type": "markdown",
   "metadata": {},
   "source": [
    "- The finally block ,if you specified,will be executed regardless if the try block raise an error or not\n",
    "- This can be usefull to close object and clean up resources"
   ]
  },
  {
   "cell_type": "code",
   "execution_count": null,
   "metadata": {},
   "outputs": [],
   "source": [
    "# try:\n",
    "#     print(x)\n",
    "# except:\n",
    "#     print(\"Somethiong went wrong\")\n",
    "# finally:\n",
    "#     print(\"some imp code\")\n",
    "# ----------------------------------------------------\n",
    "# - This can be usefull to close object and clean up resources\n",
    "try:\n",
    "    f=open(\"demo.txt\")\n",
    "    try:\n",
    "        f.write(\"hello python\")\n",
    "    except:\n",
    "        print(\"something went wrong\")\n",
    "    finally:\n",
    "        f.close()\n",
    "except:\n",
    "    print(\"Something went rong when opening the file\")\n"
   ]
  },
  {
   "cell_type": "markdown",
   "metadata": {},
   "source": [
    "### RAISE AN ERROR"
   ]
  },
  {
   "cell_type": "markdown",
   "metadata": {},
   "source": [
    "- To through an exception ,use the raise keyword\n",
    "- You can define what kind of error to raise and the text to print to the user\n",
    "- raise an Typeerror if x is not an integer"
   ]
  },
  {
   "cell_type": "code",
   "execution_count": null,
   "metadata": {},
   "outputs": [],
   "source": [
    "# x=-1\n",
    "# if x<0:\n",
    "#     raise Exception(\"sorry, no number below zero\")\n",
    "y=\"hello\"\n",
    "try:\n",
    "    if not(type(y))is int:\n",
    "        raise TypeError(\"only interger are allow\")\n",
    "except TypeError:\n",
    "    print('only integer are allowed')"
   ]
  },
  {
   "cell_type": "markdown",
   "metadata": {},
   "source": [
    "## FILE HANDLING"
   ]
  },
  {
   "cell_type": "markdown",
   "metadata": {},
   "source": [
    "- The key function for working with file in python is the \"open()\" function\n",
    "- The open() function takes two parameter (filename,mode)\n",
    "- There are four different method for opening a file."
   ]
  },
  {
   "cell_type": "markdown",
   "metadata": {},
   "source": [
    "- 'r'--> read,default value,open file for reading,error if the file does not exist\n",
    "- 'a'--> append,open a file for appending ,create the file if it does not exist\n",
    "- 'w'--> Write ,open file for writting ,create the file if it does not exist\n",
    "- 'X'--> craete the specified file return an error if the file does not exists\n",
    "- 't'-->Text,default value ,Text mode\n",
    "- 'b'-->Binary mode(eg.image)"
   ]
  },
  {
   "cell_type": "markdown",
   "metadata": {},
   "source": [
    "SYNTAX FOR OPENING FILE:    \n",
    "\n",
    "    F=OPEN(FILENAME,MODE)"
   ]
  },
  {
   "cell_type": "markdown",
   "metadata": {},
   "source": [
    "### READ FILE"
   ]
  },
  {
   "cell_type": "markdown",
   "metadata": {},
   "source": [
    "- The open() function return a file object which has a read() method for reading the content of the file"
   ]
  },
  {
   "cell_type": "code",
   "execution_count": null,
   "metadata": {},
   "outputs": [],
   "source": [
    "f=open(\"demo.txt\",'r')\n",
    "print(f.read(5))\n",
    "f.close()"
   ]
  },
  {
   "cell_type": "markdown",
   "metadata": {},
   "source": [
    "### READLINES"
   ]
  },
  {
   "cell_type": "markdown",
   "metadata": {},
   "source": [
    "    You can return one line by using the readline() method"
   ]
  },
  {
   "cell_type": "code",
   "execution_count": null,
   "metadata": {},
   "outputs": [],
   "source": [
    "f=open(\"demo.txt\",'r')\n",
    "f.seek(0)\n",
    "for i in f:\n",
    "    print(i)\n",
    "f.close()"
   ]
  },
  {
   "cell_type": "markdown",
   "metadata": {},
   "source": [
    "### WRITE/CREATE FILE"
   ]
  },
  {
   "cell_type": "markdown",
   "metadata": {},
   "source": [
    "- To write an existing file you must add a parameter to open function\n",
    "- 'a'--> will append the content to the end of the file\n"
   ]
  },
  {
   "cell_type": "markdown",
   "metadata": {},
   "source": [
    "- If you are using 'w' then it will overwrite the content to the existing file"
   ]
  },
  {
   "cell_type": "code",
   "execution_count": null,
   "metadata": {},
   "outputs": [],
   "source": [
    "f=open(\"demo.txt\",'a')\n",
    "f.write(\"\\nnow it's yor turn\")\n",
    "f.close()\n",
    "f=open(\"demo.txt\")\n",
    "print(f.read())\n",
    "f.close()"
   ]
  },
  {
   "cell_type": "markdown",
   "metadata": {},
   "source": [
    "### DELETE A FILE"
   ]
  },
  {
   "cell_type": "markdown",
   "metadata": {},
   "source": [
    "    To delete a file ,you must import the os module and run it's os.remove() function"
   ]
  },
  {
   "cell_type": "code",
   "execution_count": 4,
   "metadata": {},
   "outputs": [],
   "source": [
    "import os\n",
    "# os.remove(\"demo.txt\")"
   ]
  },
  {
   "cell_type": "markdown",
   "metadata": {},
   "source": [
    "### CHECK IF FILE EXISTS OR NOT"
   ]
  },
  {
   "cell_type": "markdown",
   "metadata": {},
   "source": [
    "- To avoid getting an error,you might want to check if the file exist before you try to delete it.\n",
    "- To delete an entire folder use \"os.rmdir()\" method."
   ]
  },
  {
   "cell_type": "code",
   "execution_count": 5,
   "metadata": {},
   "outputs": [
    {
     "name": "stdout",
     "output_type": "stream",
     "text": [
      "This file does not exists\n"
     ]
    }
   ],
   "source": [
    "if os.path.exists(\"demo.txt\"):\n",
    "    os.remove(\"demo.txt\")\n",
    "else:\n",
    "    print(\"This file does not exists\")"
   ]
  },
  {
   "cell_type": "code",
   "execution_count": null,
   "metadata": {},
   "outputs": [],
   "source": []
  }
 ],
 "metadata": {
  "kernelspec": {
   "display_name": "Python 3 (ipykernel)",
   "language": "python",
   "name": "python3"
  },
  "language_info": {
   "codemirror_mode": {
    "name": "ipython",
    "version": 3
   },
   "file_extension": ".py",
   "mimetype": "text/x-python",
   "name": "python",
   "nbconvert_exporter": "python",
   "pygments_lexer": "ipython3",
   "version": "3.8.10"
  }
 },
 "nbformat": 4,
 "nbformat_minor": 4
}
